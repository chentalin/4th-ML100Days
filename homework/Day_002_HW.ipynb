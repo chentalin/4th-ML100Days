{
 "cells": [
  {
   "cell_type": "markdown",
   "metadata": {},
   "source": [
    "# 思考題\n",
    "## 請找出一個你認為機器學習可以發光發熱的領域並闡述原因?\n",
    "\n",
    "以目前的科技，我們仍然無法預測地震，然而大地震對於生命和經濟的傷害是非常劇烈的，若我們能使用機器學習來分析平時所偵測到的氣象數據，進而預測未來地震發生的時間地點(我相信已有許多國家開始做了)，對於生命財產的保障都至關重要。\n",
    "\n",
    "* 經由過去發生大地震前偵測到的各項氣象數據，配合發生大地震的結果，我們可以使用監督式學習讓電腦學會判讀的能力\n",
    "\n",
    "* 若實在找不到數據和結果的關聯性(就如現在難以預測地震一般)，我們也可以利用非監督式學習看看電腦能否想出一些我們都沒想過的分類方式，或許就能為未來的研究找到突破\n"
   ]
  },
  {
   "cell_type": "code",
   "execution_count": null,
   "metadata": {},
   "outputs": [],
   "source": []
  }
 ],
 "metadata": {
  "kernelspec": {
   "display_name": "Python 3",
   "language": "python",
   "name": "python3"
  },
  "language_info": {
   "codemirror_mode": {
    "name": "ipython",
    "version": 3
   },
   "file_extension": ".py",
   "mimetype": "text/x-python",
   "name": "python",
   "nbconvert_exporter": "python",
   "pygments_lexer": "ipython3",
   "version": "3.7.4"
  }
 },
 "nbformat": 4,
 "nbformat_minor": 2
}
